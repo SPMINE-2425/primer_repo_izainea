{
 "cells": [
  {
   "cell_type": "markdown",
   "metadata": {},
   "source": [
    "# Introducción a Fuentes de Datos\n",
    "\n",
    "En el ámbito de la ciencia de datos y la analítica avanzada, el consumo y la preparación de datos representan etapas fundamentales en cualquier proyecto. Metodologías reconocidas como CRISP-DM, TDSP y KDD enfatizan que la fase inicial de cualquier proyecto de datos comienza con una comprensión clara del problema y el contexto, seguida de una recolección y exploración sistemática de la información disponible. Estas metodologías proporcionan un marco estructurado que asegura que cada paso en el proceso analítico se alinee con los objetivos del negocio o la investigación.\n",
    "\n",
    "Por ejemplo, CRISP-DM (Cross Industry Standard Process for Data Mining) establece una primera etapa de comprensión del negocio, que da paso a la exploración y preparación de los datos como un \"paso obligatorio\" antes de cualquier modelado. De manera similar, TDSP (Team Data Science Process) y KDD (Knowledge Discovery in Databases) destacan la importancia de transformar los datos en formatos limpios y estructurados para maximizar su utilidad y reducir errores en etapas posteriores.\n",
    "\n",
    "```{figure} https://learn.microsoft.com/es-es/azure/architecture/data-science-process/media/lifecycle/tdsp-lifecycle2.png\n",
    ":name: tdsp-lifecycle\n",
    "TDSP: Ciclo de vida del proceso de ciencia de datos.\n",
    "```\n",
    "\n",
    "```{figure} https://www.ibm.com/docs/es/SS3RA7_sub/modeler_crispdm_ddita/clementine/images/crisp_process.jpg\n",
    ":name: crisp-dm-lifecycle\n",
    "CRISP-DM: Ciclo de vida del proceso de minería de datos.\n",
    "```\n",
    "```{figure} https://saludelectronica.com/wp-content/uploads/2021/06/KDD-Salud-Electronica-1024x428.png\n",
    ":name: kdd-process\n",
    "KDD: Proceso de descubrimiento de conocimiento en bases de datos.\n",
    "```\n",
    "\n",
    "En este capítulo, nos enfocaremos en entender las diferentes fuentes de datos y aprenderemos a consumir y preparar información utilizando herramientas modernas como Python. Exploraremos desde la extracción de datos de APIs y bases de datos SQL hasta la manipulación de archivos planos, alineando estas técnicas con las mejores prácticas promovidas por estas metodologías.\n",
    "\n"
   ]
  },
  {
   "cell_type": "markdown",
   "metadata": {},
   "source": [
    "# Tipos de Fuentes de Datos\n",
    "\n",
    "Trabajar con datos requiere entender, conocer y estudiar las distintas fuentes de información y cómo adaptarlas a las necesidades de un proyecto. A continuación, exploramos las principales fuentes de datos utilizadas en ciencia de datos, comenzando desde las más simples hasta las más complejas: archivos planos, bases de datos SQL y APIs. Además, discutimos cómo pandas se posiciona como la herramienta central para manipular y transformar datos en Python.\n",
    "\n",
    "```{admonition} Importancia de las fuentes de datos\n",
    "Independientemente del tipo de datos, comprender su origen y estructura es importantísimo para garantizar su correcta preparación y análisis.\n",
    "```\n",
    "\n",
    "## **1. Archivos Planos**\n",
    "\n",
    "Los archivos planos son la forma más básica y accesible de almacenar y compartir datos. Incluyen formatos como:\n",
    "- **CSV (Comma-Separated Values):** Datos tabulares donde cada fila representa un registro y cada columna está separada por comas.\n",
    "- **JSON (JavaScript Object Notation):** Formato estructurado basado en texto para almacenar datos jerárquicos.\n",
    "- **Excel:** Hojas de cálculo ampliamente utilizadas en el ámbito empresarial.\n",
    "\n",
    "### **Ventajas de los archivos planos**\n",
    "- **Simplicidad:** Fácil de crear, compartir y visualizar.\n",
    "- **Compatibilidad:** La mayoría de las herramientas de análisis soportan estos formatos.\n",
    "- **Rapidez inicial:** Ideal para proyectos pequeños o prototipos.\n",
    "\n",
    "### **Limitaciones**\n",
    "- **Falta de robustez:** Dificultad para manejar grandes volúmenes de datos.\n",
    "- **Estructura limitada:** No permite relaciones complejas entre datos.\n",
    "- **Propenso a errores:** Formatos como CSV pueden generar problemas de codificación o separadores incorrectos.\n",
    "\n",
    "### **Ejemplo práctico con pandas**\n",
    "Pandas permite leer, transformar y analizar archivos planos de manera sencilla:\n"
   ]
  },
  {
   "cell_type": "code",
   "execution_count": 1,
   "metadata": {},
   "outputs": [],
   "source": [
    "import pandas as pd\n",
    "\n",
    "# Definir la ruta base\n",
    "ruta_base = \"../Datos/\"\n",
    "\n",
    "# Leer el archivo CSV\n",
    "df_csv = pd.read_csv(f\"{ruta_base}ejemplo.csv\")\n",
    "\n",
    "# Leer el archivo JSON fácil de leer\n",
    "df_json_facil = pd.read_json(f\"{ruta_base}ejemplo_facil.json\")\n",
    "\n",
    "# Leer el archivo JSON semiestructurado\n",
    "df_json_complejo = pd.read_json(f\"{ruta_base}ejemplo_complejo.json\")\n",
    "\n",
    "# Leer la hoja de Excel\n",
    "df_excel = pd.read_excel(f\"{ruta_base}ejemplo.xlsx\")"
   ]
  },
  {
   "cell_type": "code",
   "execution_count": 2,
   "metadata": {},
   "outputs": [
    {
     "name": "stdout",
     "output_type": "stream",
     "text": [
      "Archivo CSV\n"
     ]
    },
    {
     "data": {
      "text/html": [
       "<div>\n",
       "<style scoped>\n",
       "    .dataframe tbody tr th:only-of-type {\n",
       "        vertical-align: middle;\n",
       "    }\n",
       "\n",
       "    .dataframe tbody tr th {\n",
       "        vertical-align: top;\n",
       "    }\n",
       "\n",
       "    .dataframe thead th {\n",
       "        text-align: right;\n",
       "    }\n",
       "</style>\n",
       "<table border=\"1\" class=\"dataframe\">\n",
       "  <thead>\n",
       "    <tr style=\"text-align: right;\">\n",
       "      <th></th>\n",
       "      <th>ID</th>\n",
       "      <th>Nombre</th>\n",
       "      <th>Edad</th>\n",
       "      <th>Ciudad</th>\n",
       "    </tr>\n",
       "  </thead>\n",
       "  <tbody>\n",
       "    <tr>\n",
       "      <th>0</th>\n",
       "      <td>1</td>\n",
       "      <td>Juan</td>\n",
       "      <td>28</td>\n",
       "      <td>Bogotá</td>\n",
       "    </tr>\n",
       "    <tr>\n",
       "      <th>1</th>\n",
       "      <td>2</td>\n",
       "      <td>María</td>\n",
       "      <td>34</td>\n",
       "      <td>Medellín</td>\n",
       "    </tr>\n",
       "    <tr>\n",
       "      <th>2</th>\n",
       "      <td>3</td>\n",
       "      <td>Carlos</td>\n",
       "      <td>29</td>\n",
       "      <td>Cali</td>\n",
       "    </tr>\n",
       "  </tbody>\n",
       "</table>\n",
       "</div>"
      ],
      "text/plain": [
       "   ID  Nombre  Edad    Ciudad\n",
       "0   1    Juan    28    Bogotá\n",
       "1   2   María    34  Medellín\n",
       "2   3  Carlos    29      Cali"
      ]
     },
     "execution_count": 2,
     "metadata": {},
     "output_type": "execute_result"
    }
   ],
   "source": [
    "print(\"Archivo CSV\")\n",
    "df_csv"
   ]
  },
  {
   "cell_type": "code",
   "execution_count": 3,
   "metadata": {},
   "outputs": [
    {
     "name": "stdout",
     "output_type": "stream",
     "text": [
      "Archivo JSON fácil de leer\n"
     ]
    },
    {
     "data": {
      "text/html": [
       "<div>\n",
       "<style scoped>\n",
       "    .dataframe tbody tr th:only-of-type {\n",
       "        vertical-align: middle;\n",
       "    }\n",
       "\n",
       "    .dataframe tbody tr th {\n",
       "        vertical-align: top;\n",
       "    }\n",
       "\n",
       "    .dataframe thead th {\n",
       "        text-align: right;\n",
       "    }\n",
       "</style>\n",
       "<table border=\"1\" class=\"dataframe\">\n",
       "  <thead>\n",
       "    <tr style=\"text-align: right;\">\n",
       "      <th></th>\n",
       "      <th>ID</th>\n",
       "      <th>Nombre</th>\n",
       "      <th>Edad</th>\n",
       "      <th>Ciudad</th>\n",
       "    </tr>\n",
       "  </thead>\n",
       "  <tbody>\n",
       "    <tr>\n",
       "      <th>0</th>\n",
       "      <td>1</td>\n",
       "      <td>Juan</td>\n",
       "      <td>28</td>\n",
       "      <td>Bogotá</td>\n",
       "    </tr>\n",
       "    <tr>\n",
       "      <th>1</th>\n",
       "      <td>2</td>\n",
       "      <td>María</td>\n",
       "      <td>34</td>\n",
       "      <td>Medellín</td>\n",
       "    </tr>\n",
       "    <tr>\n",
       "      <th>2</th>\n",
       "      <td>3</td>\n",
       "      <td>Carlos</td>\n",
       "      <td>29</td>\n",
       "      <td>Cali</td>\n",
       "    </tr>\n",
       "  </tbody>\n",
       "</table>\n",
       "</div>"
      ],
      "text/plain": [
       "   ID  Nombre  Edad    Ciudad\n",
       "0   1    Juan    28    Bogotá\n",
       "1   2   María    34  Medellín\n",
       "2   3  Carlos    29      Cali"
      ]
     },
     "execution_count": 3,
     "metadata": {},
     "output_type": "execute_result"
    }
   ],
   "source": [
    "print(\"Archivo JSON fácil de leer\")\n",
    "df_json_facil"
   ]
  },
  {
   "cell_type": "code",
   "execution_count": 4,
   "metadata": {},
   "outputs": [
    {
     "name": "stdout",
     "output_type": "stream",
     "text": [
      "Archivo JSON semiestructurado\n"
     ]
    },
    {
     "data": {
      "text/html": [
       "<div>\n",
       "<style scoped>\n",
       "    .dataframe tbody tr th:only-of-type {\n",
       "        vertical-align: middle;\n",
       "    }\n",
       "\n",
       "    .dataframe tbody tr th {\n",
       "        vertical-align: top;\n",
       "    }\n",
       "\n",
       "    .dataframe thead th {\n",
       "        text-align: right;\n",
       "    }\n",
       "</style>\n",
       "<table border=\"1\" class=\"dataframe\">\n",
       "  <thead>\n",
       "    <tr style=\"text-align: right;\">\n",
       "      <th></th>\n",
       "      <th>Personas</th>\n",
       "    </tr>\n",
       "  </thead>\n",
       "  <tbody>\n",
       "    <tr>\n",
       "      <th>0</th>\n",
       "      <td>{'ID': 1, 'Detalles': {'Nombre': 'Juan', 'Edad...</td>\n",
       "    </tr>\n",
       "    <tr>\n",
       "      <th>1</th>\n",
       "      <td>{'ID': 2, 'Detalles': {'Nombre': 'María', 'Eda...</td>\n",
       "    </tr>\n",
       "    <tr>\n",
       "      <th>2</th>\n",
       "      <td>{'ID': 3, 'Detalles': {'Nombre': 'Carlos', 'Ed...</td>\n",
       "    </tr>\n",
       "  </tbody>\n",
       "</table>\n",
       "</div>"
      ],
      "text/plain": [
       "                                            Personas\n",
       "0  {'ID': 1, 'Detalles': {'Nombre': 'Juan', 'Edad...\n",
       "1  {'ID': 2, 'Detalles': {'Nombre': 'María', 'Eda...\n",
       "2  {'ID': 3, 'Detalles': {'Nombre': 'Carlos', 'Ed..."
      ]
     },
     "execution_count": 4,
     "metadata": {},
     "output_type": "execute_result"
    }
   ],
   "source": [
    "print(\"Archivo JSON semiestructurado\")\n",
    "df_json_complejo"
   ]
  },
  {
   "cell_type": "code",
   "execution_count": 5,
   "metadata": {},
   "outputs": [
    {
     "name": "stdout",
     "output_type": "stream",
     "text": [
      "Archivo Excel\n"
     ]
    },
    {
     "data": {
      "text/html": [
       "<div>\n",
       "<style scoped>\n",
       "    .dataframe tbody tr th:only-of-type {\n",
       "        vertical-align: middle;\n",
       "    }\n",
       "\n",
       "    .dataframe tbody tr th {\n",
       "        vertical-align: top;\n",
       "    }\n",
       "\n",
       "    .dataframe thead th {\n",
       "        text-align: right;\n",
       "    }\n",
       "</style>\n",
       "<table border=\"1\" class=\"dataframe\">\n",
       "  <thead>\n",
       "    <tr style=\"text-align: right;\">\n",
       "      <th></th>\n",
       "      <th>Producto</th>\n",
       "      <th>Cantidad</th>\n",
       "      <th>Precio</th>\n",
       "    </tr>\n",
       "  </thead>\n",
       "  <tbody>\n",
       "    <tr>\n",
       "      <th>0</th>\n",
       "      <td>Manzanas</td>\n",
       "      <td>50</td>\n",
       "      <td>1.2</td>\n",
       "    </tr>\n",
       "    <tr>\n",
       "      <th>1</th>\n",
       "      <td>Peras</td>\n",
       "      <td>30</td>\n",
       "      <td>0.8</td>\n",
       "    </tr>\n",
       "    <tr>\n",
       "      <th>2</th>\n",
       "      <td>Bananas</td>\n",
       "      <td>20</td>\n",
       "      <td>0.5</td>\n",
       "    </tr>\n",
       "  </tbody>\n",
       "</table>\n",
       "</div>"
      ],
      "text/plain": [
       "   Producto  Cantidad  Precio\n",
       "0  Manzanas        50     1.2\n",
       "1     Peras        30     0.8\n",
       "2   Bananas        20     0.5"
      ]
     },
     "execution_count": 5,
     "metadata": {},
     "output_type": "execute_result"
    }
   ],
   "source": [
    "print(\"Archivo Excel\")\n",
    "df_excel"
   ]
  },
  {
   "cell_type": "markdown",
   "metadata": {},
   "source": [
    "## **2. Bases de Datos SQL**\n",
    "\n",
    "Las bases de datos relacionales son ideales para almacenar grandes volúmenes de datos estructurados. Estas utilizan SQL (Structured Query Language) para definir, manipular y consultar datos. Ejemplos comunes incluyen MySQL, PostgreSQL, SQLite y Microsoft SQL Server.\n",
    "\n",
    "### **Ventajas de las bases de datos SQL**\n",
    "- **Eficiencia:** Capacidad para realizar consultas rápidas y optimizadas.\n",
    "- **Estructura robusta:** Permite establecer relaciones entre tablas (normalización).\n",
    "- **Escalabilidad:** Soporte para grandes volúmenes de datos.\n",
    "\n",
    "### **Limitaciones**\n",
    "- **Configuración inicial:** Requiere mayor esfuerzo para instalar y diseñar la base de datos.\n",
    "- **Curva de aprendizaje:** Necesidad de aprender SQL para consultas avanzadas.\n",
    "- **Dependencia del sistema:** Las bases de datos locales pueden no ser portables sin copias de respaldo.\n",
    "\n",
    "### **Ejemplo práctico con pandas**\n",
    "Pandas facilita la integración con bases de datos utilizando librerías como `sqlite3` o `SQLAlchemy`:\n"
   ]
  },
  {
   "cell_type": "code",
   "execution_count": 6,
   "metadata": {},
   "outputs": [
    {
     "data": {
      "text/html": [
       "<div>\n",
       "<style scoped>\n",
       "    .dataframe tbody tr th:only-of-type {\n",
       "        vertical-align: middle;\n",
       "    }\n",
       "\n",
       "    .dataframe tbody tr th {\n",
       "        vertical-align: top;\n",
       "    }\n",
       "\n",
       "    .dataframe thead th {\n",
       "        text-align: right;\n",
       "    }\n",
       "</style>\n",
       "<table border=\"1\" class=\"dataframe\">\n",
       "  <thead>\n",
       "    <tr style=\"text-align: right;\">\n",
       "      <th></th>\n",
       "      <th>ID</th>\n",
       "      <th>Nombre</th>\n",
       "      <th>Edad</th>\n",
       "      <th>Ciudad</th>\n",
       "    </tr>\n",
       "  </thead>\n",
       "  <tbody>\n",
       "    <tr>\n",
       "      <th>0</th>\n",
       "      <td>1</td>\n",
       "      <td>Juan</td>\n",
       "      <td>28</td>\n",
       "      <td>Bogotá</td>\n",
       "    </tr>\n",
       "    <tr>\n",
       "      <th>1</th>\n",
       "      <td>2</td>\n",
       "      <td>María</td>\n",
       "      <td>34</td>\n",
       "      <td>Medellín</td>\n",
       "    </tr>\n",
       "    <tr>\n",
       "      <th>2</th>\n",
       "      <td>3</td>\n",
       "      <td>Carlos</td>\n",
       "      <td>29</td>\n",
       "      <td>Cali</td>\n",
       "    </tr>\n",
       "  </tbody>\n",
       "</table>\n",
       "</div>"
      ],
      "text/plain": [
       "   ID  Nombre  Edad    Ciudad\n",
       "0   1    Juan    28    Bogotá\n",
       "1   2   María    34  Medellín\n",
       "2   3  Carlos    29      Cali"
      ]
     },
     "execution_count": 6,
     "metadata": {},
     "output_type": "execute_result"
    }
   ],
   "source": [
    "import sqlite3\n",
    "\n",
    "# Conexión a una base de datos SQLite\n",
    "conn = sqlite3.connect('../Datos/ejemplo.db')\n",
    "\n",
    "# Ejecutar una consulta SQL y cargar los datos en un DataFrame\n",
    "query = \"SELECT * FROM PERSONAS\"\n",
    "df_sql = pd.read_sql_query(query, conn)\n",
    "\n",
    "df_sql.head()"
   ]
  },
  {
   "cell_type": "markdown",
   "metadata": {},
   "source": [
    "## Algunas queries útiles en SQL\n",
    "### **1. Listar todas las tablas disponibles**\n",
    "Esto te permitirá conocer las tablas presentes en la base de datos:\n",
    "\n"
   ]
  },
  {
   "cell_type": "code",
   "execution_count": 7,
   "metadata": {},
   "outputs": [
    {
     "name": "stdout",
     "output_type": "stream",
     "text": [
      "Tablas disponibles:\n",
      "Personas\n",
      "Productos\n",
      "Ventas\n",
      "Clientes\n"
     ]
    }
   ],
   "source": [
    "import sqlite3\n",
    "\n",
    "# Conectar a la base de datos\n",
    "conn = sqlite3.connect(\"../Datos/ejemplo.db\")\n",
    "cursor = conn.cursor()\n",
    "\n",
    "# Consultar las tablas disponibles\n",
    "cursor.execute(\"SELECT name FROM sqlite_master WHERE type='table';\")\n",
    "tablas = cursor.fetchall()\n",
    "\n",
    "print(\"Tablas disponibles:\")\n",
    "for tabla in tablas:\n",
    "    print(tabla[0])\n",
    "\n",
    "conn.close()"
   ]
  },
  {
   "cell_type": "markdown",
   "metadata": {},
   "source": [
    "### **2. Obtener el esquema de una tabla**\n",
    "Si deseas revisar las columnas y sus tipos de datos en una tabla específica:\n"
   ]
  },
  {
   "cell_type": "code",
   "execution_count": 8,
   "metadata": {},
   "outputs": [
    {
     "name": "stdout",
     "output_type": "stream",
     "text": [
      "Esquema de la tabla 'Personas':\n",
      "Columna: ID, Tipo: INTEGER, Permite NULL: 0\n",
      "Columna: Nombre, Tipo: TEXT, Permite NULL: 1\n",
      "Columna: Edad, Tipo: INTEGER, Permite NULL: 1\n",
      "Columna: Ciudad, Tipo: TEXT, Permite NULL: 1\n"
     ]
    }
   ],
   "source": [
    "# Conectar a la base de datos\n",
    "conn = sqlite3.connect(\"../Datos/ejemplo.db\")\n",
    "cursor = conn.cursor()\n",
    "\n",
    "# Esquema de la tabla \"Personas\"\n",
    "cursor.execute(\"PRAGMA table_info('Personas');\")\n",
    "esquema = cursor.fetchall()\n",
    "\n",
    "print(\"Esquema de la tabla 'Personas':\")\n",
    "for columna in esquema:\n",
    "    print(f\"Columna: {columna[1]}, Tipo: {columna[2]}, Permite NULL: {columna[3]}\")\n",
    "\n",
    "conn.close()"
   ]
  },
  {
   "cell_type": "markdown",
   "metadata": {},
   "source": [
    "### **3. Contar registros en una tabla**\n",
    "Esto es útil para ver cuántos datos hay en cada tabla:"
   ]
  },
  {
   "cell_type": "code",
   "execution_count": 9,
   "metadata": {},
   "outputs": [
    {
     "name": "stdout",
     "output_type": "stream",
     "text": [
      "Registros en la tabla 'Personas': 3\n"
     ]
    }
   ],
   "source": [
    "# Conectar a la base de datos\n",
    "conn = sqlite3.connect(\"../Datos/ejemplo.db\")\n",
    "cursor = conn.cursor()\n",
    "\n",
    "# Contar registros en la tabla \"Personas\"\n",
    "cursor.execute(\"SELECT COUNT(*) FROM Personas;\")\n",
    "conteo = cursor.fetchone()[0]\n",
    "\n",
    "print(f\"Registros en la tabla 'Personas': {conteo}\")\n",
    "\n",
    "conn.close()"
   ]
  },
  {
   "cell_type": "markdown",
   "metadata": {},
   "source": [
    "### **4. Mostrar las primeras filas de una tabla**\n",
    "Revisar una muestra rápida de los datos en una tabla:"
   ]
  },
  {
   "cell_type": "code",
   "execution_count": 10,
   "metadata": {},
   "outputs": [
    {
     "name": "stdout",
     "output_type": "stream",
     "text": [
      "Primeras 5 filas de la tabla 'Personas':\n",
      "(1, 'Juan', 28, 'Bogotá')\n",
      "(2, 'María', 34, 'Medellín')\n",
      "(3, 'Carlos', 29, 'Cali')\n"
     ]
    }
   ],
   "source": [
    "# Conectar a la base de datos\n",
    "conn = sqlite3.connect(\"../Datos/ejemplo.db\")\n",
    "cursor = conn.cursor()\n",
    "\n",
    "# Consultar las primeras 5 filas de la tabla \"Personas\"\n",
    "cursor.execute(\"SELECT * FROM Personas LIMIT 5;\")\n",
    "filas = cursor.fetchall()\n",
    "\n",
    "print(\"Primeras 5 filas de la tabla 'Personas':\")\n",
    "for fila in filas:\n",
    "    print(fila)\n",
    "\n",
    "conn.close()"
   ]
  },
  {
   "cell_type": "markdown",
   "metadata": {},
   "source": [
    "### **5. Ver claves foráneas en una tabla**\n",
    "Para inspeccionar las relaciones de una tabla con otras tablas mediante claves foráneas:"
   ]
  },
  {
   "cell_type": "code",
   "execution_count": 11,
   "metadata": {},
   "outputs": [
    {
     "name": "stdout",
     "output_type": "stream",
     "text": [
      "Claves foráneas de la tabla 'Ventas':\n",
      "Desde ProductoID hacia Productos.ProductoID\n"
     ]
    }
   ],
   "source": [
    "conn = sqlite3.connect(\"../Datos/ejemplo.db\")\n",
    "cursor = conn.cursor()\n",
    "\n",
    "# Ver las claves foráneas de la tabla \"Ventas\"\n",
    "cursor.execute(\"PRAGMA foreign_key_list('Ventas');\")\n",
    "foreign_keys = cursor.fetchall()\n",
    "\n",
    "print(\"Claves foráneas de la tabla 'Ventas':\")\n",
    "for fk in foreign_keys:\n",
    "    print(f\"Desde {fk[3]} hacia {fk[2]}.{fk[4]}\")\n",
    "\n",
    "conn.close()"
   ]
  },
  {
   "cell_type": "markdown",
   "metadata": {},
   "source": [
    "### **6. Buscar tablas que contienen una columna específica**\n",
    "Para identificar tablas que tienen una columna particular:"
   ]
  },
  {
   "cell_type": "code",
   "execution_count": 12,
   "metadata": {},
   "outputs": [
    {
     "name": "stdout",
     "output_type": "stream",
     "text": [
      "Tablas que contienen la columna 'Nombre':\n",
      "Tabla: Personas\n",
      "Definición: CREATE TABLE Personas (\n",
      "    ID INTEGER PRIMARY KEY,\n",
      "    Nombre TEXT NOT NULL,\n",
      "    Edad INTEGER NOT NULL,\n",
      "    Ciudad TEXT NOT NULL\n",
      ")\n",
      "\n",
      "Tabla: Productos\n",
      "Definición: CREATE TABLE Productos (\n",
      "    ProductoID INTEGER PRIMARY KEY,\n",
      "    Nombre TEXT NOT NULL,\n",
      "    Categoria TEXT NOT NULL,\n",
      "    Precio REAL NOT NULL\n",
      ")\n",
      "\n",
      "Tabla: Clientes\n",
      "Definición: CREATE TABLE Clientes (\n",
      "    ClienteID INTEGER PRIMARY KEY,\n",
      "    Nombre TEXT NOT NULL,\n",
      "    Ciudad TEXT NOT NULL,\n",
      "    Telefono TEXT\n",
      ")\n",
      "\n"
     ]
    }
   ],
   "source": [
    "# Conectar a la base de datos\n",
    "conn = sqlite3.connect(\"../Datos/ejemplo.db\")\n",
    "cursor = conn.cursor()\n",
    "\n",
    "# Buscar tablas que tienen una columna llamada \"Nombre\"\n",
    "cursor.execute(\"SELECT name, sql FROM sqlite_master WHERE sql LIKE '%Nombre%';\")\n",
    "resultados = cursor.fetchall()\n",
    "\n",
    "print(\"Tablas que contienen la columna 'Nombre':\")\n",
    "for tabla, sql in resultados:\n",
    "    print(f\"Tabla: {tabla}\\nDefinición: {sql}\\n\")\n",
    "\n",
    "conn.close()"
   ]
  },
  {
   "cell_type": "markdown",
   "metadata": {},
   "source": [
    "### **7. Activar claves foráneas (si no están activas)**\n",
    "En SQLite, las claves foráneas no están activas por defecto. Puedes activarlas con este comando:"
   ]
  },
  {
   "cell_type": "code",
   "execution_count": 13,
   "metadata": {},
   "outputs": [
    {
     "name": "stdout",
     "output_type": "stream",
     "text": [
      "Claves foráneas activas: True\n"
     ]
    }
   ],
   "source": [
    "# Conectar a la base de datos\n",
    "conn = sqlite3.connect(\"../Datos/ejemplo.db\")\n",
    "cursor = conn.cursor()\n",
    "\n",
    "# Activar claves foráneas\n",
    "cursor.execute(\"PRAGMA foreign_keys = ON;\")\n",
    "\n",
    "# Verificar si están activas\n",
    "cursor.execute(\"PRAGMA foreign_keys;\")\n",
    "estado = cursor.fetchone()[0]\n",
    "print(f\"Claves foráneas activas: {bool(estado)}\")\n",
    "\n",
    "conn.close()"
   ]
  },
  {
   "cell_type": "markdown",
   "metadata": {},
   "source": [
    "\n",
    "\n",
    "## **3. APIs**\n",
    "\n",
    "Las APIs (Application Programming Interfaces) permiten acceder a datos en tiempo real desde servicios web o sistemas externos. Son la opción más compleja pero también la más versátil, ya que facilitan la integración entre diferentes plataformas.\n",
    "\n",
    "### **Características principales**\n",
    "- **Formatos de datos comunes:** JSON y XML.\n",
    "- **Interacción mediante métodos HTTP:** `GET`, `POST`, `PUT`, `DELETE`.\n",
    "- **Autenticación:** Muchas APIs requieren claves de acceso o tokens para garantizar la seguridad.\n",
    "\n",
    "### **Ventajas de las APIs**\n",
    "- **Acceso a datos dinámicos:** Información actualizada constantemente.\n",
    "- **Interoperabilidad:** Conexión entre sistemas heterogéneos.\n",
    "- **Escalabilidad:** Ideal para aplicaciones que necesitan consumir grandes volúmenes de datos en tiempo real.\n",
    "\n",
    "### **Limitaciones**\n",
    "- **Dependencia de la red:** Requiere conexión a Internet.\n",
    "- **Complejidad adicional:** Necesidad de manejar autenticaciones, errores de red y límites de consulta.\n",
    "- **Velocidad:** Puede ser más lento que trabajar con datos locales.\n",
    "\n",
    "### **¿Cómo funciona `GET`?**\n",
    "Como se comentó, una API  permite que diferentes aplicaciones se comuniquen entre sí mediante solicitudes y respuestas. Un método común es `GET`, que se utiliza para recuperar datos del servidor.\n",
    "\n",
    "Con `GET`:\n",
    "- Enviamos una solicitud a una URL.\n",
    "- El servidor devuelve los datos solicitados (generalmente en formato JSON).\n",
    "### **Ejemplo práctico con pandas**\n",
    "Pandas puede procesar datos obtenidos de una API tras realizar la consulta con `requests`:\n",
    "\n",
    "**API: [JSON Placeholder](https://jsonplaceholder.typicode.com/)**\n",
    "Esta API gratuita proporciona datos ficticios para practicar."
   ]
  },
  {
   "cell_type": "code",
   "execution_count": 14,
   "metadata": {},
   "outputs": [
    {
     "name": "stdout",
     "output_type": "stream",
     "text": [
      "Datos recibidos:\n",
      "{'userId': 1, 'id': 1, 'title': 'sunt aut facere repellat provident occaecati excepturi optio reprehenderit', 'body': 'quia et suscipit\\nsuscipit recusandae consequuntur expedita et cum\\nreprehenderit molestiae ut ut quas totam\\nnostrum rerum est autem sunt rem eveniet architecto'}\n"
     ]
    }
   ],
   "source": [
    "import requests\n",
    "\n",
    "# URL de la API\n",
    "url = \"https://jsonplaceholder.typicode.com/posts/1\"\n",
    "\n",
    "# Realizar la solicitud GET\n",
    "response = requests.get(url)\n",
    "\n",
    "# Verificar el estado de la respuesta\n",
    "if response.status_code == 200:\n",
    "    print(\"Datos recibidos:\")\n",
    "    print(response.json())\n",
    "else:\n",
    "    print(f\"Error al realizar la solicitud: {response.status_code}\")"
   ]
  },
  {
   "cell_type": "markdown",
   "metadata": {},
   "source": [
    "El API envia datos en formato JSON, que pandas puede leer y transformar en un DataFrame. A continuación, se muestra un ejemplo de cómo consumir datos de la API de JSON Placeholder:\n"
   ]
  },
  {
   "cell_type": "code",
   "execution_count": 15,
   "metadata": {},
   "outputs": [
    {
     "data": {
      "text/html": [
       "<div>\n",
       "<style scoped>\n",
       "    .dataframe tbody tr th:only-of-type {\n",
       "        vertical-align: middle;\n",
       "    }\n",
       "\n",
       "    .dataframe tbody tr th {\n",
       "        vertical-align: top;\n",
       "    }\n",
       "\n",
       "    .dataframe thead th {\n",
       "        text-align: right;\n",
       "    }\n",
       "</style>\n",
       "<table border=\"1\" class=\"dataframe\">\n",
       "  <thead>\n",
       "    <tr style=\"text-align: right;\">\n",
       "      <th></th>\n",
       "      <th>userId</th>\n",
       "      <th>id</th>\n",
       "      <th>title</th>\n",
       "      <th>body</th>\n",
       "    </tr>\n",
       "  </thead>\n",
       "  <tbody>\n",
       "    <tr>\n",
       "      <th>0</th>\n",
       "      <td>1</td>\n",
       "      <td>1</td>\n",
       "      <td>sunt aut facere repellat provident occaecati e...</td>\n",
       "      <td>quia et suscipit\\nsuscipit recusandae consequu...</td>\n",
       "    </tr>\n",
       "  </tbody>\n",
       "</table>\n",
       "</div>"
      ],
      "text/plain": [
       "   userId  id                                              title  \\\n",
       "0       1   1  sunt aut facere repellat provident occaecati e...   \n",
       "\n",
       "                                                body  \n",
       "0  quia et suscipit\\nsuscipit recusandae consequu...  "
      ]
     },
     "execution_count": 15,
     "metadata": {},
     "output_type": "execute_result"
    }
   ],
   "source": [
    "### JSONPlaceholder convirtiendo contenido a DataFrame\n",
    "\n",
    "DF=pd.DataFrame(response.json(),index=[0])\n",
    "DF\n"
   ]
  },
  {
   "cell_type": "markdown",
   "metadata": {},
   "source": [
    "### API: [OpenWeatherMap](https://openweathermap.org/api)\n",
    "Esta API proporciona datos climáticos en tiempo real. Necesitarás una **clave API gratuita** para usarla."
   ]
  },
  {
   "cell_type": "code",
   "execution_count": 16,
   "metadata": {},
   "outputs": [
    {
     "name": "stdout",
     "output_type": "stream",
     "text": [
      "Error al obtener datos: 401\n"
     ]
    }
   ],
   "source": [
    "import requests\n",
    "\n",
    "# Configurar la URL y los parámetros\n",
    "api_key = \"TU_CLAVE_API_AQUI\"  # Reemplaza con tu clave API\n",
    "ciudad = \"Bogotá\"\n",
    "url = f\"http://api.openweathermap.org/data/2.5/weather?q={ciudad}&appid={api_key}&units=metric\"\n",
    "\n",
    "# Realizar la solicitud GET\n",
    "response = requests.get(url)\n",
    "\n",
    "# Procesar la respuesta\n",
    "if response.status_code == 200:\n",
    "    datos = response.json()\n",
    "    print(f\"Clima en {ciudad}:\")\n",
    "    print(f\"Temperatura: {datos['main']['temp']}°C\")\n",
    "    print(f\"Descripción: {datos['weather'][0]['description']}\")\n",
    "else:\n",
    "    print(f\"Error al obtener datos: {response.status_code}\")"
   ]
  },
  {
   "cell_type": "markdown",
   "metadata": {},
   "source": [
    "La respuesta 401 se da cuando la clave API no es válida. Por lo tanto hay que solicitar una clave API en la página de OpenWeatherMap y reemplazarla en el código.\n",
    "\n",
    "```{admonition} Clave API\n",
    ":class: tip\n",
    "La clave API es un identificador único que te permite acceder a los servicios de una API. Es importante mantenerla segura y no compartirla públicamente.\n",
    "```"
   ]
  },
  {
   "cell_type": "markdown",
   "metadata": {},
   "source": [
    "### **Ejemplo Avanzado: Parámetros en la URL**\n",
    "\n",
    "Algunas APIs requieren que enviemos parámetros en la solicitud. Aquí usamos la API de JSON Placeholder para filtrar datos.\n",
    "\n",
    "En este caso, se envía una solicitud a la URL `https://jsonplaceholder.typicode.com/posts?userId=1` para obtener publicaciones del usuario con ID 1.\n",
    "\n",
    "```{admonition} Parámetros en la URL\n",
    ":class: tip\n",
    "Los parámetros en la URL permiten filtrar, ordenar o limitar los datos devueltos por la API.\n",
    "```"
   ]
  },
  {
   "cell_type": "code",
   "execution_count": 17,
   "metadata": {},
   "outputs": [
    {
     "name": "stdout",
     "output_type": "stream",
     "text": [
      "Posts del usuario 1:\n",
      "- sunt aut facere repellat provident occaecati excepturi optio reprehenderit\n",
      "- qui est esse\n",
      "- ea molestias quasi exercitationem repellat qui ipsa sit aut\n",
      "- eum et est occaecati\n",
      "- nesciunt quas odio\n",
      "- dolorem eum magni eos aperiam quia\n",
      "- magnam facilis autem\n",
      "- dolorem dolore est ipsam\n",
      "- nesciunt iure omnis dolorem tempora et accusantium\n",
      "- optio molestias id quia eum\n"
     ]
    }
   ],
   "source": [
    "import requests\n",
    "\n",
    "# URL de la API con parámetros\n",
    "url = \"https://jsonplaceholder.typicode.com/posts\"\n",
    "params = {\"userId\": 1}\n",
    "\n",
    "# Realizar la solicitud GET con parámetros\n",
    "response = requests.get(url, params=params)\n",
    "\n",
    "# Procesar la respuesta\n",
    "if response.status_code == 200:\n",
    "    datos = response.json()\n",
    "    print(\"Posts del usuario 1:\")\n",
    "    for post in datos:\n",
    "        print(f\"- {post['title']}\")\n",
    "else:\n",
    "    print(f\"Error al realizar la solicitud: {response.status_code}\")"
   ]
  },
  {
   "cell_type": "markdown",
   "metadata": {},
   "source": [
    "\n",
    "### **Manejo de Errores**\n",
    "\n",
    "Siempre debemos manejar errores para evitar que nuestro programa falle en caso de problemas con la API.\n",
    "\n",
    "```{admonition} Códigos de Estado HTTP\n",
    ":class: tip\n",
    "Los códigos de estado HTTP indican si una solicitud fue exitosa o si ocurrió un error. Por ejemplo, 200 significa \"OK\", mientras que 404 indica \"No encontrado\". En general, los códigos 2xx indican éxito, 4xx errores del cliente y 5xx errores del servidor.\n",
    "\n",
    "Una tabla completa de códigos de estado HTTP:\n",
    "\n",
    "| Código | Descripción |\n",
    "|--------|-------------|\n",
    "| 200    | OK          |\n",
    "| 201    | Creado      |\n",
    "| 204    | Sin contenido |\n",
    "| 400    | Solicitud incorrecta |\n",
    "| 401    | No autorizado |\n",
    "| 403    | Prohibido |\n",
    "| 404    | No encontrado |\n",
    "| 405    | Método no permitido |\n",
    "| 429    | Demasiadas solicitudes |\n",
    "| 500    | Error interno del servidor |\n",
    "| 502    | Puerta de enlace incorrecta |\n",
    "| 503    | Servicio no disponible |\n",
    "| 504    | Tiempo de espera agotado |\n",
    "\n",
    "Más información sobre códigos de estado HTTP [aquí](https://developer.mozilla.org/es/docs/Web/HTTP/Status).\n",
    "```"
   ]
  },
  {
   "cell_type": "code",
   "execution_count": 18,
   "metadata": {},
   "outputs": [
    {
     "name": "stdout",
     "output_type": "stream",
     "text": [
      "HTTPError: 404 Client Error: Not Found for url: https://jsonplaceholder.typicode.com/incorrect_endpoint\n"
     ]
    }
   ],
   "source": [
    "import requests\n",
    "\n",
    "# URL incorrecta (simulando un error)\n",
    "url = \"https://jsonplaceholder.typicode.com/incorrect_endpoint\"\n",
    "\n",
    "try:\n",
    "    response = requests.get(url)\n",
    "    response.raise_for_status()  # Genera una excepción si el estado no es 200\n",
    "    print(\"Datos recibidos:\", response.json())\n",
    "except requests.exceptions.HTTPError as err:\n",
    "    print(f\"HTTPError: {err}\")\n",
    "except requests.exceptions.RequestException as err:\n",
    "    print(f\"Error en la solicitud: {err}\")"
   ]
  },
  {
   "cell_type": "markdown",
   "metadata": {},
   "source": [
    "## Ejercicio Práctico\n",
    "\n",
    "Vamos a hacer un ejemplo práctico utilizando la plataforma **Socrata** para consumir datos abiertos de **datosabiertos.gov.co**.\n",
    "\n",
    "---\n",
    "\n",
    "## **Objetivo**\n",
    "Usar la API de Socrata para consultar datos públicos de **datosabiertos.gov.co**, como por ejemplo el registro de accidentes de tránsito, y analizar los resultados con Python.\n",
    "\n",
    "---\n",
    "\n",
    "## **Requisitos Previos**\n",
    "1. **Librerías necesarias:**\n",
    "   - `requests`: Para realizar las solicitudes HTTP.\n",
    "   - `pandas`: Para manipular los datos.\n",
    "2. **App Token (opcional):** Aunque la API de Socrata permite consultas sin autenticación, es mejor registrarse y obtener un token para evitar limitaciones de uso.\n",
    "\n",
    "   Puedes registrarte y obtener un token en [datosabiertos.gov.co](https://www.datos.gov.co).\n",
    "\n",
    "---\n",
    "\n",
    "## **Código Paso a Paso**\n",
    "\n",
    "### **1. Configuración Inicial**\n",
    "Definimos los detalles básicos de la API y el App Token."
   ]
  },
  {
   "cell_type": "code",
   "execution_count": 19,
   "metadata": {},
   "outputs": [],
   "source": [
    "import requests\n",
    "import pandas as pd\n",
    "\n",
    "# URL base de Socrata (dataset de lesiones personales y accidentes de tránsito en Colombia)\n",
    "url = \"https://www.datos.gov.co/resource/72sg-cybi.json\"\n",
    "\n",
    "# Tu App Token (opcional)\n",
    "app_token = None  # Reemplazar token o dejar como None\n",
    "\n",
    "# Configurar encabezados para la solicitud\n",
    "headers = {\n",
    "    \"X-App-Token\": app_token\n",
    "} if app_token else {}"
   ]
  },
  {
   "cell_type": "markdown",
   "metadata": {},
   "source": [
    "---\n",
    "\n",
    "### **2. Solicitar Datos**\n",
    "Consultamos los datos de la API usando un filtro opcional para obtener, por ejemplo, solo los accidentes registrados en el año 2022."
   ]
  },
  {
   "cell_type": "code",
   "execution_count": 20,
   "metadata": {},
   "outputs": [
    {
     "name": "stdout",
     "output_type": "stream",
     "text": [
      "Datos recibidos exitosamente.\n"
     ]
    }
   ],
   "source": [
    "# Parámetros para filtrar los datos\n",
    "params = {\n",
    "    \"$limit\": 5000,  # Limitar a 5000 resultados (cambiar según necesidades)\n",
    "    \"$where\": \"municipio = 'BOGOTÁ D.C. (CT)'\"  # Filtrar por el año 2022\n",
    "}\n",
    "\n",
    "# Realizar la solicitud GET\n",
    "response = requests.get(url, headers=headers, params=params)\n",
    "\n",
    "# Verificar el estado de la respuesta\n",
    "if response.status_code == 200:\n",
    "    datos = response.json()\n",
    "    print(\"Datos recibidos exitosamente.\")\n",
    "else:\n",
    "    print(f\"Error al acceder a la API: {response.status_code}\")\n",
    "    datos = []"
   ]
  },
  {
   "cell_type": "markdown",
   "metadata": {},
   "source": [
    "---\n",
    "### **3. Convertir los Datos a un DataFrame**\n",
    "Una vez obtenidos los datos, los transformamos en un `DataFrame` de pandas para facilitar su análisis."
   ]
  },
  {
   "cell_type": "code",
   "execution_count": 21,
   "metadata": {},
   "outputs": [
    {
     "name": "stdout",
     "output_type": "stream",
     "text": [
      "Primeras filas del DataFrame:\n"
     ]
    },
    {
     "data": {
      "text/html": [
       "<div>\n",
       "<style scoped>\n",
       "    .dataframe tbody tr th:only-of-type {\n",
       "        vertical-align: middle;\n",
       "    }\n",
       "\n",
       "    .dataframe tbody tr th {\n",
       "        vertical-align: top;\n",
       "    }\n",
       "\n",
       "    .dataframe thead th {\n",
       "        text-align: right;\n",
       "    }\n",
       "</style>\n",
       "<table border=\"1\" class=\"dataframe\">\n",
       "  <thead>\n",
       "    <tr style=\"text-align: right;\">\n",
       "      <th></th>\n",
       "      <th>departamento</th>\n",
       "      <th>municipio</th>\n",
       "      <th>codigo_dane</th>\n",
       "      <th>armas_medios</th>\n",
       "      <th>fecha_hecho</th>\n",
       "      <th>genero</th>\n",
       "      <th>grupo_etario</th>\n",
       "      <th>descripci_n_conducta</th>\n",
       "      <th>cantidad</th>\n",
       "    </tr>\n",
       "  </thead>\n",
       "  <tbody>\n",
       "    <tr>\n",
       "      <th>0</th>\n",
       "      <td>CUNDINAMARCA</td>\n",
       "      <td>BOGOTÁ D.C. (CT)</td>\n",
       "      <td>11001000</td>\n",
       "      <td>ARMA BLANCA / CORTOPUNZANTE</td>\n",
       "      <td>1/01/2010</td>\n",
       "      <td>FEMENINO</td>\n",
       "      <td>ADOLESCENTES</td>\n",
       "      <td>LESIONES PERSONALES</td>\n",
       "      <td>2</td>\n",
       "    </tr>\n",
       "    <tr>\n",
       "      <th>1</th>\n",
       "      <td>CUNDINAMARCA</td>\n",
       "      <td>BOGOTÁ D.C. (CT)</td>\n",
       "      <td>11001000</td>\n",
       "      <td>ARMA BLANCA / CORTOPUNZANTE</td>\n",
       "      <td>1/01/2010</td>\n",
       "      <td>FEMENINO</td>\n",
       "      <td>ADULTOS</td>\n",
       "      <td>LESIONES PERSONALES</td>\n",
       "      <td>4</td>\n",
       "    </tr>\n",
       "    <tr>\n",
       "      <th>2</th>\n",
       "      <td>CUNDINAMARCA</td>\n",
       "      <td>BOGOTÁ D.C. (CT)</td>\n",
       "      <td>11001000</td>\n",
       "      <td>ARMA BLANCA / CORTOPUNZANTE</td>\n",
       "      <td>1/01/2010</td>\n",
       "      <td>MASCULINO</td>\n",
       "      <td>ADOLESCENTES</td>\n",
       "      <td>LESIONES PERSONALES</td>\n",
       "      <td>2</td>\n",
       "    </tr>\n",
       "    <tr>\n",
       "      <th>3</th>\n",
       "      <td>CUNDINAMARCA</td>\n",
       "      <td>BOGOTÁ D.C. (CT)</td>\n",
       "      <td>11001000</td>\n",
       "      <td>ARMA BLANCA / CORTOPUNZANTE</td>\n",
       "      <td>1/01/2010</td>\n",
       "      <td>MASCULINO</td>\n",
       "      <td>ADULTOS</td>\n",
       "      <td>LESIONES PERSONALES</td>\n",
       "      <td>29</td>\n",
       "    </tr>\n",
       "    <tr>\n",
       "      <th>4</th>\n",
       "      <td>CUNDINAMARCA</td>\n",
       "      <td>BOGOTÁ D.C. (CT)</td>\n",
       "      <td>11001000</td>\n",
       "      <td>ARMA DE FUEGO</td>\n",
       "      <td>1/01/2010</td>\n",
       "      <td>MASCULINO</td>\n",
       "      <td>ADULTOS</td>\n",
       "      <td>LESIONES PERSONALES</td>\n",
       "      <td>3</td>\n",
       "    </tr>\n",
       "  </tbody>\n",
       "</table>\n",
       "</div>"
      ],
      "text/plain": [
       "   departamento         municipio codigo_dane                 armas_medios  \\\n",
       "0  CUNDINAMARCA  BOGOTÁ D.C. (CT)    11001000  ARMA BLANCA / CORTOPUNZANTE   \n",
       "1  CUNDINAMARCA  BOGOTÁ D.C. (CT)    11001000  ARMA BLANCA / CORTOPUNZANTE   \n",
       "2  CUNDINAMARCA  BOGOTÁ D.C. (CT)    11001000  ARMA BLANCA / CORTOPUNZANTE   \n",
       "3  CUNDINAMARCA  BOGOTÁ D.C. (CT)    11001000  ARMA BLANCA / CORTOPUNZANTE   \n",
       "4  CUNDINAMARCA  BOGOTÁ D.C. (CT)    11001000                ARMA DE FUEGO   \n",
       "\n",
       "  fecha_hecho     genero  grupo_etario descripci_n_conducta cantidad  \n",
       "0   1/01/2010   FEMENINO  ADOLESCENTES  LESIONES PERSONALES        2  \n",
       "1   1/01/2010   FEMENINO       ADULTOS  LESIONES PERSONALES        4  \n",
       "2   1/01/2010  MASCULINO  ADOLESCENTES  LESIONES PERSONALES        2  \n",
       "3   1/01/2010  MASCULINO       ADULTOS  LESIONES PERSONALES       29  \n",
       "4   1/01/2010  MASCULINO       ADULTOS  LESIONES PERSONALES        3  "
      ]
     },
     "metadata": {},
     "output_type": "display_data"
    }
   ],
   "source": [
    "# Convertir los datos a un DataFrame\n",
    "if datos:\n",
    "    df = pd.DataFrame(datos)\n",
    "    print(\"Primeras filas del DataFrame:\")\n",
    "    display(df.head())\n",
    "else:\n",
    "    print(\"No se recibieron datos.\")"
   ]
  },
  {
   "cell_type": "markdown",
   "metadata": {},
   "source": [
    "---\n",
    "### **4. Ejemplo de Análisis**\n",
    "Podemos realizar algunas operaciones básicas, como contar los registros por tipo de accidente o por departamento."
   ]
  },
  {
   "cell_type": "code",
   "execution_count": 22,
   "metadata": {},
   "outputs": [
    {
     "name": "stdout",
     "output_type": "stream",
     "text": [
      "\n",
      "Columnas disponibles:\n"
     ]
    },
    {
     "data": {
      "text/plain": [
       "Index(['departamento', 'municipio', 'codigo_dane', 'armas_medios',\n",
       "       'fecha_hecho', 'genero', 'grupo_etario', 'descripci_n_conducta',\n",
       "       'cantidad'],\n",
       "      dtype='object')"
      ]
     },
     "metadata": {},
     "output_type": "display_data"
    },
    {
     "name": "stdout",
     "output_type": "stream",
     "text": [
      "\n",
      "Cantidad de accidentes por tipo:\n"
     ]
    },
    {
     "data": {
      "text/plain": [
       "armas_medios\n",
       "CONTUNDENTES                   1769\n",
       "VEHICULO                       1096\n",
       "ARMA BLANCA / CORTOPUNZANTE     907\n",
       "ARMA DE FUEGO                   499\n",
       "MOTO                            438\n",
       "PUNZANTES                       121\n",
       "PERRO                            60\n",
       "BICICLETA                        38\n",
       "ESCOPOLAMINA                     17\n",
       "GRANADA DE MANO                  11\n",
       "SIN EMPLEO DE ARMAS               8\n",
       "QUIMICOS                          7\n",
       "GASES                             5\n",
       "NO REPORTA                        4\n",
       "COMBUSTIBLE                       3\n",
       "VENENO                            3\n",
       "AGUA CALIENTE                     3\n",
       "JERINGA                           2\n",
       "SUSTANCIAS TOXICAS                2\n",
       "MEDICAMENTOS                      2\n",
       "CARRO BOMBA                       2\n",
       "PAPA EXPLOSIVA                    2\n",
       "LICOR ADULTERADO                  1\n",
       "Name: count, dtype: int64"
      ]
     },
     "metadata": {},
     "output_type": "display_data"
    },
    {
     "name": "stdout",
     "output_type": "stream",
     "text": [
      "\n",
      "Cantidad de accidentes por departamento:\n"
     ]
    },
    {
     "data": {
      "text/plain": [
       "departamento\n",
       "CUNDINAMARCA    5000\n",
       "Name: count, dtype: int64"
      ]
     },
     "metadata": {},
     "output_type": "display_data"
    }
   ],
   "source": [
    "if not df.empty:\n",
    "    # Verificar columnas disponibles\n",
    "    print(\"\\nColumnas disponibles:\")\n",
    "    display(df.columns)\n",
    "\n",
    "    # Contar registros por tipo de accidente\n",
    "    if \"armas_medios\" in df.columns:\n",
    "        print(\"\\nCantidad de accidentes por tipo:\")\n",
    "        display(df[\"armas_medios\"].value_counts())\n",
    "\n",
    "    # Contar registros por departamento\n",
    "    if \"departamento\" in df.columns:\n",
    "        print(\"\\nCantidad de accidentes por departamento:\")\n",
    "        display(df[\"departamento\"].value_counts())"
   ]
  },
  {
   "cell_type": "markdown",
   "metadata": {},
   "source": [
    "### **Conclusión**\n",
    "\n",
    "Trabajar con fuentes de datos diversas es una habilidad esencial en cualquier proyecto de ciencia de datos o programación avanzada. En este capítulo, hemos explorado tres tipos principales de fuentes de datos: **archivos planos**, **bases de datos SQL**, y **APIs**, destacando sus características, ventajas y cómo interactuar con ellas utilizando herramientas modernas como Python y pandas.\n",
    "\n",
    "---\n",
    "\n",
    "### **Lo que hemos aprendido**\n",
    "1. **Archivos Planos:**\n",
    "   - Son la forma más simple de almacenar y compartir datos.\n",
    "   - Con pandas, es fácil leer y transformar formatos como CSV, JSON y Excel para un análisis rápido.\n",
    "   - Aunque son útiles para prototipos, no son ideales para manejar grandes volúmenes de datos.\n",
    "\n",
    "2. **Bases de Datos SQL:**\n",
    "   - Ofrecen una estructura robusta para almacenar y consultar datos a gran escala.\n",
    "   - Usar SQLite como ejemplo demostró cómo integrar datos relacionales con pandas para realizar análisis avanzados.\n",
    "   - Las bases de datos son fundamentales para proyectos donde los datos evolucionan constantemente.\n",
    "\n",
    "3. **APIs:**\n",
    "   - Permiten acceder a datos dinámicos y en tiempo real desde servicios externos.\n",
    "   - Aprendimos a realizar solicitudes `GET`, manejar parámetros, y trabajar con APIs públicas como OpenWeatherMap y Socrata.\n",
    "---\n",
    "\n",
    "### **Pandas como herramienta central**\n",
    "Pandas se destacó en cada sección como una herramienta clave para:\n",
    "- **Integrar fuentes de datos**: Ya sea leyendo archivos locales, conectándose a bases de datos o procesando datos JSON de una API.\n",
    "- **Preparar los datos**: Limpieza, transformación y organización son pasos obligatorios para garantizar la calidad de los análisis.\n",
    "- **Análisis eficiente**: Proporcionando una interfaz sencilla para explorar y obtener insights rápidamente.\n",
    "\n",
    "---\n",
    "\n",
    "### **Reflexión**\n",
    "El consumo y la preparación de datos no son solo pasos iniciales en cualquier proyecto de datos, sino que también determinan la calidad y el éxito del análisis posterior. Las metodologías como **CRISP-DM**, **TDSP** y **KDD** nos recuerdan que un flujo de trabajo bien estructurado comienza siempre con una sólida comprensión de las fuentes de datos y sus características.\n",
    "\n",
    "---\n",
    "\n",
    "### **Próximos Pasos**\n",
    "1. **Automatización de Procesos:**\n",
    "   - Crear pipelines de datos que integren múltiples fuentes.\n",
    "   - Incorporar autenticación segura para APIs más avanzadas.\n",
    "2. **Escalabilidad:**\n",
    "   - Migrar de archivos planos a bases de datos más robustas como PostgreSQL o MySQL para proyectos más grandes.\n",
    "3. **Visualización:**\n",
    "   - Traducir los datos preparados en gráficos interactivos usando herramientas como Matplotlib, Seaborn o Streamlit.\n",
    "4. **MLOps:**\n",
    "   - Preparar los datos para flujos de machine learning aplicando las mejores prácticas en limpieza y estructuración.\n",
    "\n",
    "---\n",
    "\n",
    "Este capítulo ha sentado las bases para manejar datos de diversas fuentes, integrarlos de manera eficiente y prepararlos para análisis más complejos. Desde aquí, el camino se amplía hacia proyectos más desafiantes que requieran escalabilidad, interacción dinámica y aplicaciones prácticas. ¡Vamos a seguir construyendo soluciones basadas en datos! 🎯"
   ]
  }
 ],
 "metadata": {
  "kernelspec": {
   "display_name": "spmine-2425",
   "language": "python",
   "name": "python3"
  },
  "language_info": {
   "codemirror_mode": {
    "name": "ipython",
    "version": 3
   },
   "file_extension": ".py",
   "mimetype": "text/x-python",
   "name": "python",
   "nbconvert_exporter": "python",
   "pygments_lexer": "ipython3",
   "version": "3.11.11"
  }
 },
 "nbformat": 4,
 "nbformat_minor": 2
}
